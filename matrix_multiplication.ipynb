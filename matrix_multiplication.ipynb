{
 "metadata": {
  "language_info": {
   "codemirror_mode": {
    "name": "ipython",
    "version": 3
   },
   "file_extension": ".py",
   "mimetype": "text/x-python",
   "name": "python",
   "nbconvert_exporter": "python",
   "pygments_lexer": "ipython3",
   "version": "3.8.5"
  },
  "orig_nbformat": 2,
  "kernelspec": {
   "name": "python385jvsc74a57bd0b3ba2566441a7c06988d0923437866b63cedc61552a5af99d1f4fb67d367b25f",
   "display_name": "Python 3.8.5 64-bit ('base': conda)"
  }
 },
 "nbformat": 4,
 "nbformat_minor": 2,
 "cells": [
  {
   "source": [
    "# Matrix multiplication from first principles\n",
    ">### Note: The code below works only for square matrices"
   ],
   "cell_type": "markdown",
   "metadata": {}
  },
  {
   "cell_type": "code",
   "execution_count": 33,
   "metadata": {},
   "outputs": [],
   "source": [
    "import random"
   ]
  },
  {
   "source": [
    "## Functions to create matrices (including the null matrix)"
   ],
   "cell_type": "markdown",
   "metadata": {}
  },
  {
   "cell_type": "code",
   "execution_count": 34,
   "metadata": {},
   "outputs": [],
   "source": [
    "def create_matrix(rows, cols):\n",
    "    return [[random.randint(0, 9) for c in range(cols)] for r in range(rows)]\n",
    "\n",
    "def create_null_matrix(rows, cols):\n",
    "    return [[0 for c in range(cols)] for r in range(rows)]"
   ]
  },
  {
   "source": [
    "## Define matrix dimensions\n",
    ">(optional step) Take input from user for the number of rows and columns in the matrices"
   ],
   "cell_type": "markdown",
   "metadata": {}
  },
  {
   "cell_type": "code",
   "execution_count": 35,
   "metadata": {},
   "outputs": [],
   "source": [
    "# Take user input (optional)\n",
    "# rows = int(input(\"Number of rows: \"))\n",
    "# cols = int(input(\"Number of columns: \"))\n",
    "\n",
    "# Default values\n",
    "rows = 3\n",
    "cols = 3"
   ]
  },
  {
   "source": [
    "## Create matrices"
   ],
   "cell_type": "markdown",
   "metadata": {}
  },
  {
   "cell_type": "code",
   "execution_count": 36,
   "metadata": {},
   "outputs": [
    {
     "output_type": "stream",
     "name": "stdout",
     "text": [
      "[[3, 5, 3], [5, 7, 9], [0, 1, 6]]\n[[5, 0, 5], [1, 7, 5], [8, 8, 3]]\n[[0, 0, 0], [0, 0, 0], [0, 0, 0]]\n"
     ]
    }
   ],
   "source": [
    "a = create_matrix(rows, cols)\n",
    "b = create_matrix(rows, cols)\n",
    "\n",
    "print(a)\n",
    "print(b)\n",
    "\n",
    "c = create_null_matrix(rows, cols)\n",
    "print(c)"
   ]
  },
  {
   "source": [
    "## Matrix multiplication executed using ***\"nested for loops\"***\n",
    ">***Note: The code below works only for square matrices***"
   ],
   "cell_type": "markdown",
   "metadata": {}
  },
  {
   "cell_type": "code",
   "execution_count": 37,
   "metadata": {},
   "outputs": [
    {
     "output_type": "stream",
     "name": "stdout",
     "text": [
      "[[44, 59, 49], [104, 121, 87], [49, 55, 23]]\n"
     ]
    }
   ],
   "source": [
    "for i in range(rows):\n",
    "    for j in range(cols):\n",
    "        for k in range(cols):\n",
    "            c[i][j] = c[i][j] + a[i][k]*b[k][j]\n",
    "print(c)"
   ]
  },
  {
   "source": [
    "## Verify the result with numpy"
   ],
   "cell_type": "markdown",
   "metadata": {}
  },
  {
   "cell_type": "code",
   "execution_count": 39,
   "metadata": {},
   "outputs": [],
   "source": [
    "import numpy"
   ]
  },
  {
   "cell_type": "code",
   "execution_count": 40,
   "metadata": {},
   "outputs": [
    {
     "output_type": "stream",
     "name": "stdout",
     "text": [
      "[[ 44  59  49]\n [104 121  87]\n [ 49  55  23]]\n"
     ]
    }
   ],
   "source": [
    "x = numpy.mat(a)\n",
    "y = numpy.mat(b)\n",
    "\n",
    "print(x*y)"
   ]
  },
  {
   "cell_type": "code",
   "execution_count": null,
   "metadata": {},
   "outputs": [],
   "source": []
  }
 ]
}