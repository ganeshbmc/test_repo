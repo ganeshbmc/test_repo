{
 "metadata": {
  "language_info": {
   "codemirror_mode": {
    "name": "ipython",
    "version": 3
   },
   "file_extension": ".py",
   "mimetype": "text/x-python",
   "name": "python",
   "nbconvert_exporter": "python",
   "pygments_lexer": "ipython3",
   "version": "3.8.5"
  },
  "orig_nbformat": 2,
  "kernelspec": {
   "name": "python385jvsc74a57bd0b3ba2566441a7c06988d0923437866b63cedc61552a5af99d1f4fb67d367b25f",
   "display_name": "Python 3.8.5 64-bit ('base': conda)"
  }
 },
 "nbformat": 4,
 "nbformat_minor": 2,
 "cells": [
  {
   "source": [
    "# Matrix addition from first principles"
   ],
   "cell_type": "markdown",
   "metadata": {}
  },
  {
   "cell_type": "code",
   "execution_count": 71,
   "metadata": {},
   "outputs": [],
   "source": [
    "import random"
   ]
  },
  {
   "source": [
    "## Functions to create matrices (including the null matrix)"
   ],
   "cell_type": "markdown",
   "metadata": {}
  },
  {
   "cell_type": "code",
   "execution_count": 72,
   "metadata": {},
   "outputs": [],
   "source": [
    "def create_matrix(rows, cols):\n",
    "    return [[random.randint(0, 9) for c in range(cols)] for r in range(rows)]\n",
    "\n",
    "def create_null_matrix(rows, cols):\n",
    "    return [[0 for c in range(cols)] for r in range(rows)]"
   ]
  },
  {
   "source": [
    "## Define matrix dimensions\n",
    ">(optional step) Take input from user for the number of rows and columns in the matrices"
   ],
   "cell_type": "markdown",
   "metadata": {}
  },
  {
   "cell_type": "code",
   "execution_count": 73,
   "metadata": {},
   "outputs": [],
   "source": [
    "# Take user input (optional)\n",
    "# rows = int(input(\"Number of rows: \"))\n",
    "# cols = int(input(\"Number of columns: \"))\n",
    "\n",
    "# Default values\n",
    "rows = 3\n",
    "cols = 3"
   ]
  },
  {
   "source": [
    "## Create matrices"
   ],
   "cell_type": "markdown",
   "metadata": {}
  },
  {
   "cell_type": "code",
   "execution_count": 74,
   "metadata": {},
   "outputs": [
    {
     "output_type": "stream",
     "name": "stdout",
     "text": [
      "[[9, 5, 6], [6, 6, 6], [4, 8, 7]]\n[[1, 5, 4], [8, 1, 3], [5, 3, 2]]\n[[0, 0, 0], [0, 0, 0], [0, 0, 0]]\n"
     ]
    }
   ],
   "source": [
    "a = create_matrix(rows, cols)\n",
    "b = create_matrix(rows, cols)\n",
    "\n",
    "print(a)\n",
    "print(b)\n",
    "\n",
    "c = create_null_matrix(rows, cols)\n",
    "print(c)"
   ]
  },
  {
   "source": [
    "## Matrix addition executed using ***\"nested for loops\"***"
   ],
   "cell_type": "markdown",
   "metadata": {}
  },
  {
   "cell_type": "code",
   "execution_count": 75,
   "metadata": {},
   "outputs": [
    {
     "output_type": "stream",
     "name": "stdout",
     "text": [
      "[[10, 10, 10], [14, 7, 9], [9, 11, 9]]\n"
     ]
    }
   ],
   "source": [
    "for i in range(len(a)):\n",
    "    for j in range(len(a)):\n",
    "        c[i][j] = a[i][j] + b[i][j]\n",
    "print(c)"
   ]
  }
 ]
}